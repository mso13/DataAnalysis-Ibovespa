{
 "cells": [
  {
   "cell_type": "markdown",
   "metadata": {},
   "source": [
    "## Ibovespa Stocks Analysis"
   ]
  },
  {
   "cell_type": "markdown",
   "metadata": {},
   "source": [
    "---"
   ]
  },
  {
   "cell_type": "markdown",
   "metadata": {},
   "source": [
    "#### 1. Bibliotecas Utilizadas"
   ]
  },
  {
   "cell_type": "code",
   "execution_count": 1,
   "metadata": {},
   "outputs": [],
   "source": [
    "import pandas as pd\n",
    "import numpy as np\n",
    "import matplotlib.pyplot as plt"
   ]
  },
  {
   "cell_type": "markdown",
   "metadata": {},
   "source": [
    "#### 2. Conjunto de Dados (B3 Stocks)\n",
    "\n",
    "- O conjunto de dados ***b3_stocks*** apresenta informações sobre as cotação de diferentes ações entre os anos de **1994 a 2020 (Junho)**"
   ]
  },
  {
   "cell_type": "code",
   "execution_count": 2,
   "metadata": {},
   "outputs": [],
   "source": [
    "b3_stocks = pd.read_csv('../data/b3_stocks_1994_2020.csv')"
   ]
  },
  {
   "cell_type": "code",
   "execution_count": 4,
   "metadata": {},
   "outputs": [
    {
     "data": {
      "text/html": [
       "<div>\n",
       "<style scoped>\n",
       "    .dataframe tbody tr th:only-of-type {\n",
       "        vertical-align: middle;\n",
       "    }\n",
       "\n",
       "    .dataframe tbody tr th {\n",
       "        vertical-align: top;\n",
       "    }\n",
       "\n",
       "    .dataframe thead th {\n",
       "        text-align: right;\n",
       "    }\n",
       "</style>\n",
       "<table border=\"1\" class=\"dataframe\">\n",
       "  <thead>\n",
       "    <tr style=\"text-align: right;\">\n",
       "      <th></th>\n",
       "      <th>datetime</th>\n",
       "      <th>ticker</th>\n",
       "      <th>open</th>\n",
       "      <th>close</th>\n",
       "      <th>high</th>\n",
       "      <th>low</th>\n",
       "      <th>volume</th>\n",
       "    </tr>\n",
       "  </thead>\n",
       "  <tbody>\n",
       "    <tr>\n",
       "      <th>1809942</th>\n",
       "      <td>2020-06-30</td>\n",
       "      <td>WLMM4</td>\n",
       "      <td>17.84</td>\n",
       "      <td>18.50</td>\n",
       "      <td>18.99</td>\n",
       "      <td>17.84</td>\n",
       "      <td>105747.00</td>\n",
       "    </tr>\n",
       "    <tr>\n",
       "      <th>1809943</th>\n",
       "      <td>2020-06-30</td>\n",
       "      <td>WSON33</td>\n",
       "      <td>34.27</td>\n",
       "      <td>35.59</td>\n",
       "      <td>36.18</td>\n",
       "      <td>33.61</td>\n",
       "      <td>4928729.00</td>\n",
       "    </tr>\n",
       "    <tr>\n",
       "      <th>1809944</th>\n",
       "      <td>2020-06-30</td>\n",
       "      <td>XBOV11</td>\n",
       "      <td>93.57</td>\n",
       "      <td>93.29</td>\n",
       "      <td>94.36</td>\n",
       "      <td>93.29</td>\n",
       "      <td>10334.50</td>\n",
       "    </tr>\n",
       "    <tr>\n",
       "      <th>1809945</th>\n",
       "      <td>2020-06-30</td>\n",
       "      <td>XPIE11</td>\n",
       "      <td>92.98</td>\n",
       "      <td>91.00</td>\n",
       "      <td>93.50</td>\n",
       "      <td>91.00</td>\n",
       "      <td>75828.82</td>\n",
       "    </tr>\n",
       "    <tr>\n",
       "      <th>1809946</th>\n",
       "      <td>2020-06-30</td>\n",
       "      <td>YDUQ3</td>\n",
       "      <td>33.67</td>\n",
       "      <td>33.65</td>\n",
       "      <td>34.59</td>\n",
       "      <td>33.18</td>\n",
       "      <td>88390681.00</td>\n",
       "    </tr>\n",
       "  </tbody>\n",
       "</table>\n",
       "</div>"
      ],
      "text/plain": [
       "           datetime  ticker   open  close   high    low       volume\n",
       "1809942  2020-06-30   WLMM4  17.84  18.50  18.99  17.84    105747.00\n",
       "1809943  2020-06-30  WSON33  34.27  35.59  36.18  33.61   4928729.00\n",
       "1809944  2020-06-30  XBOV11  93.57  93.29  94.36  93.29     10334.50\n",
       "1809945  2020-06-30  XPIE11  92.98  91.00  93.50  91.00     75828.82\n",
       "1809946  2020-06-30   YDUQ3  33.67  33.65  34.59  33.18  88390681.00"
      ]
     },
     "execution_count": 4,
     "metadata": {},
     "output_type": "execute_result"
    }
   ],
   "source": [
    "b3_stocks.tail()"
   ]
  },
  {
   "cell_type": "code",
   "execution_count": null,
   "metadata": {},
   "outputs": [],
   "source": []
  }
 ],
 "metadata": {
  "kernelspec": {
   "display_name": "TensorFlow 2.0",
   "language": "python",
   "name": "tensorflow2"
  },
  "language_info": {
   "codemirror_mode": {
    "name": "ipython",
    "version": 3
   },
   "file_extension": ".py",
   "mimetype": "text/x-python",
   "name": "python",
   "nbconvert_exporter": "python",
   "pygments_lexer": "ipython3",
   "version": "3.7.7"
  }
 },
 "nbformat": 4,
 "nbformat_minor": 4
}
